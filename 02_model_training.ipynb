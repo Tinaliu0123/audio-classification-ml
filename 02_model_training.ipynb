{
 "cells": [
  {
   "cell_type": "code",
   "execution_count": 1,
   "metadata": {
    "execution": {
     "iopub.execute_input": "2024-05-11T13:22:26.256828Z",
     "iopub.status.busy": "2024-05-11T13:22:26.256062Z",
     "iopub.status.idle": "2024-05-11T13:22:27.546432Z",
     "shell.execute_reply": "2024-05-11T13:22:27.545315Z",
     "shell.execute_reply.started": "2024-05-11T13:22:26.256790Z"
    },
    "id": "f8xMqlZYIoWk",
    "outputId": "2b8d5cca-d4f3-4a44-e235-a8c21e4e2ed6",
    "trusted": true
   },
   "outputs": [
    {
     "name": "stdout",
     "output_type": "stream",
     "text": [
      "\u001b[1m\u001b[37mc08d5f53f934           \u001b[m  Sat May 11 13:22:27 2024  \u001b[1m\u001b[30m535.129.03\u001b[m\n",
      "\u001b[36m[0]\u001b[m \u001b[34mTesla P100-PCIE-16GB\u001b[m |\u001b[31m 31°C\u001b[m, \u001b[32m  0 %\u001b[m | \u001b[36m\u001b[1m\u001b[33m  107\u001b[m / \u001b[33m16384\u001b[m MB |\n"
     ]
    }
   ],
   "source": [
    "!gpustat"
   ]
  },
  {
   "cell_type": "code",
   "execution_count": 2,
   "metadata": {
    "execution": {
     "iopub.execute_input": "2024-05-11T13:22:27.549091Z",
     "iopub.status.busy": "2024-05-11T13:22:27.548724Z",
     "iopub.status.idle": "2024-05-11T13:22:28.530143Z",
     "shell.execute_reply": "2024-05-11T13:22:28.529185Z",
     "shell.execute_reply.started": "2024-05-11T13:22:27.549055Z"
    },
    "id": "FwVcfJjgJAtk",
    "outputId": "c58fcc46-d155-4b68-f8ca-b12142768755",
    "trusted": true
   },
   "outputs": [
    {
     "name": "stdout",
     "output_type": "stream",
     "text": [
      "Sat May 11 13:22:28 2024       \n",
      "+---------------------------------------------------------------------------------------+\n",
      "| NVIDIA-SMI 535.129.03             Driver Version: 535.129.03   CUDA Version: 12.2     |\n",
      "|-----------------------------------------+----------------------+----------------------+\n",
      "| GPU  Name                 Persistence-M | Bus-Id        Disp.A | Volatile Uncorr. ECC |\n",
      "| Fan  Temp   Perf          Pwr:Usage/Cap |         Memory-Usage | GPU-Util  Compute M. |\n",
      "|                                         |                      |               MIG M. |\n",
      "|=========================================+======================+======================|\n",
      "|   0  Tesla P100-PCIE-16GB           Off | 00000000:00:04.0 Off |                    0 |\n",
      "| N/A   32C    P0              25W / 250W |      0MiB / 16384MiB |      0%      Default |\n",
      "|                                         |                      |                  N/A |\n",
      "+-----------------------------------------+----------------------+----------------------+\n",
      "                                                                                         \n",
      "+---------------------------------------------------------------------------------------+\n",
      "| Processes:                                                                            |\n",
      "|  GPU   GI   CI        PID   Type   Process name                            GPU Memory |\n",
      "|        ID   ID                                                             Usage      |\n",
      "|=======================================================================================|\n",
      "|  No running processes found                                                           |\n",
      "+---------------------------------------------------------------------------------------+\n"
     ]
    }
   ],
   "source": [
    "!nvidia-smi"
   ]
  },
  {
   "cell_type": "code",
   "execution_count": 3,
   "metadata": {
    "execution": {
     "iopub.execute_input": "2024-05-11T13:22:28.531950Z",
     "iopub.status.busy": "2024-05-11T13:22:28.531647Z",
     "iopub.status.idle": "2024-05-11T13:22:28.537265Z",
     "shell.execute_reply": "2024-05-11T13:22:28.536418Z",
     "shell.execute_reply.started": "2024-05-11T13:22:28.531922Z"
    },
    "id": "uG9cpli0I_qC",
    "outputId": "54325b7f-f45d-4d02-ed30-7274f97f3863",
    "trusted": true
   },
   "outputs": [
    {
     "name": "stdout",
     "output_type": "stream",
     "text": [
      "Python version 3.10.13\n"
     ]
    }
   ],
   "source": [
    "from platform import python_version\n",
    "print(\"Python version\", python_version())"
   ]
  },
  {
   "cell_type": "markdown",
   "metadata": {
    "id": "o72Wd8I_P4a3"
   },
   "source": [
    "Data uploading: google drive/wget"
   ]
  },
  {
   "cell_type": "code",
   "execution_count": 4,
   "metadata": {
    "execution": {
     "iopub.execute_input": "2024-05-11T13:22:28.540327Z",
     "iopub.status.busy": "2024-05-11T13:22:28.540045Z",
     "iopub.status.idle": "2024-05-11T13:22:34.608756Z",
     "shell.execute_reply": "2024-05-11T13:22:34.607895Z",
     "shell.execute_reply.started": "2024-05-11T13:22:28.540303Z"
    },
    "trusted": true
   },
   "outputs": [],
   "source": [
    "import torch\n",
    "import numpy as np\n",
    "import random\n",
    "import torchaudio\n",
    "import librosa\n",
    "\n",
    "import torch.nn as nn\n",
    "import torchaudio.transforms as T\n",
    "import torch.nn.functional as F\n",
    "from torch.utils.data import DataLoader, Dataset, random_split, TensorDataset\n",
    "import torchvision.transforms as transforms\n",
    "\n",
    "import torch.optim as optim\n",
    "from torch.optim.lr_scheduler import StepLR, CosineAnnealingWarmRestarts, ReduceLROnPlateau,ExponentialLR, CosineAnnealingLR\n",
    "import torch.nn.init as init\n",
    "from torch.optim import Adam\n",
    "\n",
    "torch.manual_seed(0)\n",
    "np.random.seed(0)\n",
    "random.seed(0)\n",
    "torch.cuda.manual_seed(0)  # If using CUDA\n",
    "torch.cuda.manual_seed_all(0)  # For all GPUs\n",
    "torch.backends.cudnn.deterministic = True\n",
    "torch.backends.cudnn.benchmark = False #Disable optimizations that may lead to non-deterministic behavior"
   ]
  },
  {
   "cell_type": "code",
   "execution_count": 5,
   "metadata": {
    "execution": {
     "iopub.execute_input": "2024-05-11T13:22:34.610210Z",
     "iopub.status.busy": "2024-05-11T13:22:34.609840Z",
     "iopub.status.idle": "2024-05-11T13:22:50.343841Z",
     "shell.execute_reply": "2024-05-11T13:22:50.342897Z",
     "shell.execute_reply.started": "2024-05-11T13:22:34.610185Z"
    },
    "id": "eFxyJIGE3bLw",
    "outputId": "b3116857-643b-40c8-a114-b122063d5df0",
    "trusted": true
   },
   "outputs": [
    {
     "name": "stdout",
     "output_type": "stream",
     "text": [
      "Train Spectrograms: (11886, 128, 259) float32\n",
      "Test Spectrograms: (2447, 128, 259) float32\n"
     ]
    }
   ],
   "source": [
    "def load_spectrograms(filepath):\n",
    "    \"\"\"Load spectrograms from a numpy .npy file.\"\"\"\n",
    "    return np.load(filepath)\n",
    "\n",
    "# Load train and test spectrograms\n",
    "test_spectrograms = load_spectrograms('/kaggle/input/human-spec/human2_test_spectrograms.npy')\n",
    "train_spectrograms = load_spectrograms('/kaggle/input/human-spec/human_train_spectrograms.npy')\n",
    "\n",
    "print(\"Train Spectrograms:\", train_spectrograms.shape, train_spectrograms.dtype)\n",
    "print(\"Test Spectrograms:\", test_spectrograms.shape, test_spectrograms.dtype)"
   ]
  },
  {
   "cell_type": "code",
   "execution_count": 6,
   "metadata": {
    "execution": {
     "iopub.execute_input": "2024-05-11T13:22:50.345185Z",
     "iopub.status.busy": "2024-05-11T13:22:50.344918Z",
     "iopub.status.idle": "2024-05-11T13:22:50.366377Z",
     "shell.execute_reply": "2024-05-11T13:22:50.365524Z",
     "shell.execute_reply.started": "2024-05-11T13:22:50.345161Z"
    },
    "id": "cmyt7PpgPipa",
    "trusted": true
   },
   "outputs": [],
   "source": [
    "# Load labels\n",
    "import numpy as np\n",
    "\n",
    "def load_labels(filename):\n",
    "    with open(filename, 'r') as file:\n",
    "        labels = [int(line.strip()) for line in file.readlines()]\n",
    "    return labels\n",
    "\n",
    "labels = load_labels('/kaggle/input/spectrogram-and-label-t/train_label.txt')\n"
   ]
  },
  {
   "cell_type": "code",
   "execution_count": 7,
   "metadata": {
    "execution": {
     "iopub.execute_input": "2024-05-11T13:22:50.367687Z",
     "iopub.status.busy": "2024-05-11T13:22:50.367442Z",
     "iopub.status.idle": "2024-05-11T13:22:50.403486Z",
     "shell.execute_reply": "2024-05-11T13:22:50.402421Z",
     "shell.execute_reply.started": "2024-05-11T13:22:50.367665Z"
    },
    "trusted": true
   },
   "outputs": [
    {
     "name": "stdout",
     "output_type": "stream",
     "text": [
      "cuda\n"
     ]
    }
   ],
   "source": [
    "# Check if GPU is available\n",
    "device = torch.device(\"cuda\" if torch.cuda.is_available() else \"cpu\")\n",
    "print(device)"
   ]
  },
  {
   "cell_type": "code",
   "execution_count": 8,
   "metadata": {
    "execution": {
     "iopub.execute_input": "2024-05-11T13:22:50.405131Z",
     "iopub.status.busy": "2024-05-11T13:22:50.404794Z",
     "iopub.status.idle": "2024-05-11T13:22:50.412208Z",
     "shell.execute_reply": "2024-05-11T13:22:50.411263Z",
     "shell.execute_reply.started": "2024-05-11T13:22:50.405106Z"
    },
    "trusted": true
   },
   "outputs": [
    {
     "name": "stdout",
     "output_type": "stream",
     "text": [
      "(11886, 1, 128, 259)\n",
      "(2447, 1, 128, 259)\n"
     ]
    }
   ],
   "source": [
    "# Reshape spectrograms to include a channel dimension \n",
    "train_spectrograms_reshaped = np.expand_dims(train_spectrograms, axis=1)  # Adds a new axis at position 1\n",
    "test_spectrograms_reshaped = np.expand_dims(test_spectrograms, axis=1)\n",
    "\n",
    "train_spectrograms = train_spectrograms.reshape((-1, 1, 128, 259))  # -1 tells numpy to calculate the necessary size to maintain the same number of elements\n",
    "test_spectrograms = test_spectrograms.reshape((-1, 1, 128, 259))\n",
    "\n",
    "print(train_spectrograms_reshaped.shape)\n",
    "print(test_spectrograms_reshaped.shape)\n"
   ]
  },
  {
   "cell_type": "code",
   "execution_count": 9,
   "metadata": {
    "execution": {
     "iopub.execute_input": "2024-05-11T13:22:50.413759Z",
     "iopub.status.busy": "2024-05-11T13:22:50.413458Z",
     "iopub.status.idle": "2024-05-11T13:22:53.835109Z",
     "shell.execute_reply": "2024-05-11T13:22:53.834274Z",
     "shell.execute_reply.started": "2024-05-11T13:22:50.413736Z"
    },
    "id": "BPGwkywGOIDo",
    "outputId": "968b7a4e-663f-46e1-c9e8-aba87152b216",
    "trusted": true
   },
   "outputs": [],
   "source": [
    "#Data Normalization：mean-variance is better than max-min\n",
    "def standardize_spectrograms(spectrograms):\n",
    "    \"\"\" Standardize spectrograms to have zero mean and unit variance. \"\"\"\n",
    "    standardized = []\n",
    "    for spec in spectrograms:\n",
    "        mean = np.mean(spec)\n",
    "        std = np.std(spec)\n",
    "        if std > 0:\n",
    "            standardized.append((spec - mean) / std)\n",
    "        else:\n",
    "            standardized.append(spec)  # Handle zero variance scenarios\n",
    "    return np.array(standardized)\n",
    "\n",
    "train_spectrograms = standardize_spectrograms(train_spectrograms)\n",
    "test_spectrograms = standardize_spectrograms(test_spectrograms)"
   ]
  },
  {
   "cell_type": "code",
   "execution_count": 10,
   "metadata": {
    "execution": {
     "iopub.execute_input": "2024-05-11T13:22:53.839805Z",
     "iopub.status.busy": "2024-05-11T13:22:53.839526Z",
     "iopub.status.idle": "2024-05-11T13:22:56.111644Z",
     "shell.execute_reply": "2024-05-11T13:22:56.110665Z",
     "shell.execute_reply.started": "2024-05-11T13:22:53.839782Z"
    },
    "id": "Xm2Nb1pFUpyw",
    "outputId": "83c292f7-9361-4f0c-aa02-78f06d9a042a",
    "trusted": true
   },
   "outputs": [
    {
     "name": "stderr",
     "output_type": "stream",
     "text": [
      "/tmp/ipykernel_34/1382844090.py:141: UserWarning: To copy construct from a tensor, it is recommended to use sourceTensor.clone().detach() or sourceTensor.clone().detach().requires_grad_(True), rather than torch.tensor(sourceTensor).\n",
      "  train_spectrograms_t = torch.tensor(train_spectrograms_t, dtype=torch.float32)  # Ensure it's a tensor\n",
      "/tmp/ipykernel_34/1382844090.py:142: UserWarning: To copy construct from a tensor, it is recommended to use sourceTensor.clone().detach() or sourceTensor.clone().detach().requires_grad_(True), rather than torch.tensor(sourceTensor).\n",
      "  labels = torch.tensor(labels, dtype=torch.long)  # Ensure labels are also tensors and use appropriate dtype\n"
     ]
    },
    {
     "name": "stdout",
     "output_type": "stream",
     "text": [
      "Class weights: tensor([11.4565,  3.8250,  3.4696,  2.7544])\n"
     ]
    }
   ],
   "source": [
    "#Data Augmentation\n",
    "\n",
    "class SpectrogramTransform:\n",
    "    \"\"\"Applies spectrogram transformations for data augmentation.\"\"\" #50 20 小于 27 13 小于 40 15 大于 45 18\n",
    "    def __init__(self, add_reversal = True, max_temporal_mask_size=50, max_frequency_mask_size=20, use_time_warp=True, W=5, sample_rate=44100): \n",
    "        self.add_reversal = add_reversal\n",
    "        self.sample_rate = sample_rate\n",
    "        self.max_temporal_mask_size = min(max_temporal_mask_size, 128)  # Ensure mask size doesn't exceed spectrogram size\n",
    "        self.max_frequency_mask_size = min(max_frequency_mask_size, 268)\n",
    "        self.augmentations = nn.Sequential(\n",
    "            T.FrequencyMasking(freq_mask_param=self.max_frequency_mask_size),\n",
    "            T.TimeMasking(time_mask_param=self.max_temporal_mask_size)\n",
    "        )\n",
    "        self.use_time_warp = use_time_warp\n",
    "        self.W = W  \n",
    "\n",
    "    def reverse_spectrogram(self, spectrogram):\n",
    "        \"\"\"Reverse the spectrogram.\"\"\"\n",
    "        if self.add_reversal and random.random() > 0.5:  # Apply reversal randomly\n",
    "            return spectrogram.flip(dims=[-1])\n",
    "        return spectrogram\n",
    "    \n",
    "    def time_warp(self, spectrogram, W=5):\n",
    "        if not self.use_time_warp or spectrogram.shape[2] <= 2 * W:\n",
    "            return spectrogram\n",
    "\n",
    "        device=spectrogram.device\n",
    "        spectrogram = spectrogram.clone()  # Clone the spectrogram tensor to ensure not modifying the original tensor\n",
    "        time_length = spectrogram.shape[2]\n",
    "\n",
    "        # Randomly choose a time warp point\n",
    "        pt = torch.randint(W, time_length - W, (1,), device=device)\n",
    "\n",
    "        # Randomly decide the shifting factor\n",
    "        src = pt.item()\n",
    "        dest = src + torch.randint(-W, W, (1,), device=device).item()\n",
    "\n",
    "        # Correct the indices if they go out of bounds\n",
    "        if dest < 0:\n",
    "            dest = 0\n",
    "        elif dest >= time_length:\n",
    "            dest = time_length - 1\n",
    "\n",
    "        # Apply time warping\n",
    "        if dest > src:\n",
    "            shifted_portion = spectrogram[:, :, src+1:dest+1].clone()\n",
    "            spectrogram[:, :, src:dest] = shifted_portion\n",
    "        elif src > dest:\n",
    "            shifted_portion = spectrogram[:, :, dest:src].clone()\n",
    "            spectrogram[:, :, dest+1:src+1] = shifted_portion\n",
    "\n",
    "        return spectrogram\n",
    "\n",
    "    def __call__(self, spectrogram):\n",
    "        spectrogram = self.time_warp(spectrogram)\n",
    "        spectrogram = self.reverse_spectrogram(spectrogram)\n",
    "        spectrogram = self.augmentations(spectrogram)\n",
    "        return spectrogram\n",
    "\n",
    "# Define a custom Dataset class\n",
    "class AudioDataset(Dataset):\n",
    "    def __init__(self, spectrograms, labels, transform=None):\n",
    "        self.spectrograms = spectrograms\n",
    "        self.labels = labels\n",
    "        self.transform = transform\n",
    "\n",
    "    def __len__(self):\n",
    "        return len(self.spectrograms)\n",
    "\n",
    "    def __getitem__(self, idx):\n",
    "        spectrogram = self.spectrograms[idx]\n",
    "        label = self.labels[idx]\n",
    "        \n",
    "        spectrogram = torch.tensor(spectrogram, dtype=torch.float32) if not isinstance(spectrogram, torch.Tensor) else spectrogram\n",
    "        label = torch.tensor(label, dtype=torch.long) if not isinstance(label, torch.Tensor) else label\n",
    "        \n",
    "        # Apply data augmentation if transform is provided\n",
    "        if self.transform:\n",
    "            spectrogram = self.transform(spectrogram)\n",
    "        spectrogram = torch.tensor(spectrogram, dtype=torch.float32)\n",
    "        return spectrogram, label\n",
    "    \n",
    "def mixup_data(x, y, alpha=0.4, device='cuda'):\n",
    "    '''Compute the mixup data. Pass lambda to the mixup criterion.'''\n",
    "    if alpha > 0:\n",
    "        lam = np.random.beta(alpha, alpha)\n",
    "    else:\n",
    "        lam = 1\n",
    "        \n",
    "    batch_size = x.size(0)\n",
    "    index = torch.randperm(batch_size).to(device)  # Ensure index tensor is on the correct device\n",
    "\n",
    "    mixed_x = lam * x + (1 - lam) * x[index, :]  # Mix images\n",
    "    y_a, y_b = y, y[index]  # Get corresponding mixed labels\n",
    "\n",
    "    return mixed_x, y_a, y_b, lam\n",
    "\n",
    "train_spectrograms_t = torch.tensor(train_spectrograms, dtype=torch.float32)  # Ensure it's a tensor\n",
    "labels = torch.tensor(labels, dtype=torch.long)\n",
    "\n",
    "#split first before augmentation!!\n",
    "dataset = TensorDataset(train_spectrograms_t, labels) #train dataset without augmentation\n",
    "\n",
    "train_spectrograms_t = torch.tensor(train_spectrograms_t, dtype=torch.float32)  # Ensure it's a tensor\n",
    "labels = torch.tensor(labels, dtype=torch.long)  # Ensure labels are also tensors and use appropriate dtype\n",
    "\n",
    "# Split dataset into training and validation sets\n",
    "total_samples = len(dataset)\n",
    "num_val = 2400  # Number of validation samples\n",
    "num_train = total_samples - num_val  # Remaining samples for training\n",
    "train_dataset, val_dataset = random_split(dataset, [num_train, num_val])\n",
    "\n",
    "# Calculate class weights after splitting\n",
    "def calculate_class_weights(labels):\n",
    "    class_counts = np.bincount(labels)\n",
    "    class_proportion = class_counts / len(labels)\n",
    "    class_weights =  1./ class_proportion\n",
    "    return torch.FloatTensor(class_weights)\n",
    "\n",
    "# Extract labels from train_dataset correctly\n",
    "train_labels = [dataset[idx][1].item() for idx in train_dataset.indices]\n",
    "class_weights = calculate_class_weights(np.array(train_labels))\n",
    "print(\"Class weights:\", class_weights)\n",
    "\n",
    "#any random operation within your data loading process is reproducible across different run\n",
    "def worker_init_fn(worker_id):\n",
    "    worker_seed = torch.initial_seed() % 2**32\n",
    "    np.random.seed(worker_seed)\n",
    "    random.seed(worker_seed)\n",
    "\n",
    "g = torch.Generator()\n",
    "g.manual_seed(0)\n",
    "\n",
    "# Create instance of SpectrogramTransform\n",
    "audio_transform = SpectrogramTransform()\n",
    "train_dataset_augmented = AudioDataset(train_dataset[:][0], train_dataset[:][1], transform=audio_transform)\n",
    "train_loader = DataLoader(train_dataset_augmented, batch_size=32, shuffle=True, num_workers=4, worker_init_fn=worker_init_fn, generator=g) #\n",
    "\n",
    "# Create DataLoader without augmentation for validation\n",
    "val_loader = DataLoader(val_dataset, batch_size=32, shuffle=False,num_workers=4, worker_init_fn=worker_init_fn)"
   ]
  },
  {
   "cell_type": "code",
   "execution_count": 14,
   "metadata": {
    "execution": {
     "iopub.execute_input": "2024-05-11T13:22:56.152304Z",
     "iopub.status.busy": "2024-05-11T13:22:56.151943Z",
     "iopub.status.idle": "2024-05-11T13:22:56.178138Z",
     "shell.execute_reply": "2024-05-11T13:22:56.177354Z",
     "shell.execute_reply.started": "2024-05-11T13:22:56.152272Z"
    },
    "trusted": true
   },
   "outputs": [],
   "source": [
    "#14 layer cnn\n",
    "\n",
    "class ResidualBlock(nn.Module):\n",
    "    def __init__(self, channels):\n",
    "        super(ResidualBlock, self).__init__()\n",
    "        self.conv1 = nn.Conv2d(channels, channels, kernel_size=3, padding=1, bias=False)\n",
    "        self.bn1 = nn.BatchNorm2d(channels)\n",
    "        self.relu = nn.ReLU(inplace=True)\n",
    "        self.conv2 = nn.Conv2d(channels, channels, kernel_size=3, padding=1, bias=False)\n",
    "        self.bn2 = nn.BatchNorm2d(channels)\n",
    "\n",
    "    def forward(self, x):\n",
    "        identity = x\n",
    "        out = self.conv1(x)\n",
    "        out = self.bn1(out)\n",
    "        out = self.relu(out)\n",
    "        out = self.conv2(out)\n",
    "        out = self.bn2(out)\n",
    "        out += identity\n",
    "        out = self.relu(out)\n",
    "        return out\n",
    "\n",
    "class SelfAttention(nn.Module):\n",
    "    def __init__(self, in_channels):\n",
    "        super(SelfAttention, self).__init__()\n",
    "        self.query_conv = nn.Conv2d(in_channels, in_channels // 8, 1)\n",
    "        self.key_conv = nn.Conv2d(in_channels, in_channels // 8, 1)\n",
    "        self.value_conv = nn.Conv2d(in_channels, in_channels, 1)\n",
    "        self.softmax = nn.Softmax(dim=-1)  # Softmax over each row\n",
    "\n",
    "    def forward(self, x):\n",
    "        batch_size, C, width, height = x.size()\n",
    "        query = self.query_conv(x).view(batch_size, -1, width * height).permute(0, 2, 1)\n",
    "        key = self.key_conv(x).view(batch_size, -1, width * height)\n",
    "        energy = torch.bmm(query, key)\n",
    "        attention = self.softmax(energy)\n",
    "        value = self.value_conv(x).view(batch_size, -1, width * height)\n",
    "        out = torch.bmm(value, attention.permute(0, 2, 1))\n",
    "        out = out.view(batch_size, C, width, height)\n",
    "\n",
    "        return out + x  # Skip connection\n",
    "    \n",
    "class SpectrogramCNN(nn.Module):\n",
    "    def __init__(self):\n",
    "        super(SpectrogramCNN, self).__init__()\n",
    "        self.conv1 = nn.Conv2d(1, 64, kernel_size=(3,3), stride=1, padding=1)\n",
    "        self.bn1 = nn.BatchNorm2d(64)\n",
    "        self.relu = nn.ReLU(inplace=True)\n",
    "        self.pool1 = nn.MaxPool2d(2, 2)\n",
    "\n",
    "        self.res_block1 = ResidualBlock(64)\n",
    "        self.res_block2 = ResidualBlock(64)\n",
    "\n",
    "        self.conv2 = nn.Conv2d(64, 128, kernel_size=(3,3), stride=1, padding=1)\n",
    "        self.bn2 = nn.BatchNorm2d(128)\n",
    "        self.pool2 = nn.MaxPool2d(2, 2)\n",
    "\n",
    "        self.res_block3 = ResidualBlock(128)\n",
    "\n",
    "        self.conv3 = nn.Conv2d(128, 256, kernel_size=(3,3), stride=1, padding=1)\n",
    "        self.bn3 = nn.BatchNorm2d(256)\n",
    "        self.pool3 = nn.MaxPool2d(2, 2)\n",
    "\n",
    "        self.res_block4 = ResidualBlock(256)\n",
    "\n",
    "        # Adding a new convolutional layer\n",
    "        self.conv4 = nn.Conv2d(256, 512, kernel_size=(3,3), stride=1, padding=1)\n",
    "        self.bn4 = nn.BatchNorm2d(512)\n",
    "        self.pool4 = nn.MaxPool2d(2, 2)\n",
    "\n",
    "        self.res_block5 = ResidualBlock(512)\n",
    "        \n",
    "        #self.self_attention = SelfAttention(512) \n",
    "        #self.fc1 = nn.Linear(65536, 1024) \n",
    "        \n",
    "        self.fc1 = nn.Linear(512 * 8 * 16, 1024)  # Adjust the dimensions based on the output of the last pooling layer\n",
    "        self.fc2 = nn.Linear(1024, 128)\n",
    "        self.fc3 = nn.Linear(128, 4)\n",
    "\n",
    "    def forward(self, x):\n",
    "        x = self.relu(self.bn1(self.conv1(x)))\n",
    "        x = self.pool1(x)\n",
    "        x = self.res_block1(x)\n",
    "        x = self.res_block2(x)\n",
    "\n",
    "        x = self.relu(self.bn2(self.conv2(x)))\n",
    "        x = self.pool2(x)\n",
    "        x = self.res_block3(x)\n",
    "\n",
    "        x = self.relu(self.bn3(self.conv3(x)))\n",
    "        x = self.pool3(x)\n",
    "        x = self.res_block4(x)\n",
    "\n",
    "        x = self.relu(self.bn4(self.conv4(x)))\n",
    "        x = self.pool4(x)\n",
    "        x = self.res_block5(x)\n",
    "        \n",
    "        #x = self.self_attention(x) \n",
    "        #print(x.shape) \n",
    "\n",
    "        x = torch.flatten(x, 1)\n",
    "        x = self.relu(self.fc1(x))\n",
    "        x = self.relu(self.fc2(x))\n",
    "        x = self.fc3(x)\n",
    "        return F.log_softmax(x, dim=1)\n"
   ]
  },
  {
   "cell_type": "code",
   "execution_count": 16,
   "metadata": {
    "execution": {
     "iopub.execute_input": "2024-05-11T13:22:56.191322Z",
     "iopub.status.busy": "2024-05-11T13:22:56.191004Z",
     "iopub.status.idle": "2024-05-11T13:22:57.141653Z",
     "shell.execute_reply": "2024-05-11T13:22:57.140702Z",
     "shell.execute_reply.started": "2024-05-11T13:22:56.191291Z"
    },
    "id": "IFP_8hBXU05W",
    "trusted": true
   },
   "outputs": [
    {
     "name": "stdout",
     "output_type": "stream",
     "text": [
      "Adjusting learning rate of group 0 to 1.0000e-03.\n"
     ]
    },
    {
     "name": "stderr",
     "output_type": "stream",
     "text": [
      "/tmp/ipykernel_34/1513940419.py:43: UserWarning: To copy construct from a tensor, it is recommended to use sourceTensor.clone().detach() or sourceTensor.clone().detach().requires_grad_(True), rather than torch.tensor(sourceTensor).\n",
      "  class_weights_tensor = torch.tensor(class_weights, dtype=torch.float).to(device)\n"
     ]
    }
   ],
   "source": [
    "import time\n",
    "\n",
    "class LSR2(nn.Module):\n",
    "    def __init__(self, class_weights=None, e=0.01, reduction='mean'):\n",
    "        super(LSR2, self).__init__()\n",
    "        self.class_weights = class_weights\n",
    "        self.e = e\n",
    "        self.reduction = reduction\n",
    "        self.log_softmax = nn.LogSoftmax(dim=1)\n",
    "\n",
    "    def forward(self, x, target):\n",
    "        if x.size(0) != target.size(0):\n",
    "            raise ValueError(\"Expected input batchsize to match target batchsize\")\n",
    "\n",
    "        logprobs = self.log_softmax(x)\n",
    "        target_smooth = F.one_hot(target, num_classes=x.size(1)) * (1 - self.e) + (self.e / x.size(1))\n",
    "        \n",
    "        if self.class_weights is not None:\n",
    "            loss = -torch.sum(self.class_weights * target_smooth * logprobs, dim=1)\n",
    "        else:\n",
    "            loss = -torch.sum(target_smooth * logprobs, dim=1)\n",
    "\n",
    "        if self.reduction == 'none':\n",
    "            return loss\n",
    "        elif self.reduction == 'sum':\n",
    "            return torch.sum(loss)\n",
    "        elif self.reduction == 'mean':\n",
    "            return torch.mean(loss)\n",
    "        else:\n",
    "            raise ValueError(\"Unsupported reduction: {}\".format(self.reduction))\n",
    "\n",
    "# Initialize the model\n",
    "model = SpectrogramCNN()\n",
    "model.to(device)\n",
    "\n",
    "# Calculate class weights inversely proportional to class frequencies\n",
    "class_weights_tensor = torch.tensor(class_weights, dtype=torch.float).to(device)\n",
    "\n",
    "criterion = LSR2(class_weights=class_weights_tensor, e=0.1, reduction='mean')\n",
    "#criterion = nn.CrossEntropyLoss()\n",
    "\n",
    "optimizer = optim.SGD(model.parameters(), lr=0.001, momentum=0.9, weight_decay=0.0001)\n",
    "\n",
    "scheduler = CosineAnnealingLR(optimizer, T_max=3, eta_min=0.000001, verbose = True)#1e-6\n",
    "#scheduler = ReduceLROnPlateau(optimizer, 'min', patience=2, factor=0.1, verbose=True)"
   ]
  },
  {
   "cell_type": "code",
   "execution_count": 17,
   "metadata": {
    "execution": {
     "iopub.execute_input": "2024-05-11T13:22:57.143239Z",
     "iopub.status.busy": "2024-05-11T13:22:57.142969Z",
     "iopub.status.idle": "2024-05-11T13:22:57.148123Z",
     "shell.execute_reply": "2024-05-11T13:22:57.147222Z",
     "shell.execute_reply.started": "2024-05-11T13:22:57.143216Z"
    },
    "id": "nQU4ndoaN3KM",
    "trusted": true
   },
   "outputs": [
    {
     "name": "stdout",
     "output_type": "stream",
     "text": [
      "Spectrograms shape: (11886, 1, 128, 259)\n",
      "Labels shape: torch.Size([11886])\n"
     ]
    }
   ],
   "source": [
    "print(\"Spectrograms shape:\", train_spectrograms.shape)\n",
    "print(\"Labels shape:\", labels.shape)"
   ]
  },
  {
   "cell_type": "code",
   "execution_count": 18,
   "metadata": {
    "execution": {
     "iopub.execute_input": "2024-05-11T13:22:57.149633Z",
     "iopub.status.busy": "2024-05-11T13:22:57.149307Z",
     "iopub.status.idle": "2024-05-11T13:44:30.229476Z",
     "shell.execute_reply": "2024-05-11T13:44:30.228224Z",
     "shell.execute_reply.started": "2024-05-11T13:22:57.149609Z"
    },
    "trusted": true
   },
   "outputs": [
    {
     "name": "stdout",
     "output_type": "stream",
     "text": [
      "Epoch 1, Train Accuracy: 0.5495, Train Loss: 4.3986\n",
      "Epoch 1, Val Accuracy: 0.7383, Val Loss: 3.3771, Val F1: 0.7698, Precision: 0.7840, Recall: 0.7773\n",
      "Adjusting learning rate of group 0 to 7.5025e-04.\n",
      "Epoch 2, Train Accuracy: 0.6645, Train Loss: 3.8821\n",
      "Epoch 2, Val Accuracy: 0.5858, Val Loss: 4.6668, Val F1: 0.5677, Precision: 0.7092, Recall: 0.7023\n",
      "Adjusting learning rate of group 0 to 2.5075e-04.\n",
      "Epoch 3, Train Accuracy: 0.6947, Train Loss: 3.7064\n",
      "Epoch 3, Val Accuracy: 0.6875, Val Loss: 3.4778, Val F1: 0.6909, Precision: 0.7380, Recall: 0.7707\n",
      "Adjusting learning rate of group 0 to 1.0000e-06.\n",
      "Epoch 4, Train Accuracy: 0.7047, Train Loss: 3.6598\n",
      "Epoch 4, Val Accuracy: 0.7925, Val Loss: 2.9427, Val F1: 0.8101, Precision: 0.8047, Recall: 0.8387\n",
      "Adjusting learning rate of group 0 to 2.5075e-04.\n",
      "Epoch 5, Train Accuracy: 0.7209, Train Loss: 3.5734\n",
      "Epoch 5, Val Accuracy: 0.8196, Val Loss: 2.8342, Val F1: 0.8359, Precision: 0.8277, Recall: 0.8537\n",
      "Adjusting learning rate of group 0 to 7.5025e-04.\n",
      "Epoch 6, Train Accuracy: 0.6983, Train Loss: 3.7305\n",
      "Epoch 6, Val Accuracy: 0.8050, Val Loss: 3.0105, Val F1: 0.8311, Precision: 0.8311, Recall: 0.8343\n",
      "Adjusting learning rate of group 0 to 1.0000e-03.\n",
      "Epoch 7, Train Accuracy: 0.6980, Train Loss: 3.7205\n",
      "Epoch 7, Val Accuracy: 0.5825, Val Loss: 5.2453, Val F1: 0.5771, Precision: 0.7433, Recall: 0.7001\n",
      "Adjusting learning rate of group 0 to 7.5025e-04.\n",
      "Epoch 8, Train Accuracy: 0.7210, Train Loss: 3.5842\n",
      "Epoch 8, Val Accuracy: 0.8237, Val Loss: 2.8724, Val F1: 0.8372, Precision: 0.8291, Recall: 0.8515\n",
      "Adjusting learning rate of group 0 to 2.5075e-04.\n",
      "Epoch 9, Train Accuracy: 0.7395, Train Loss: 3.4488\n",
      "Epoch 9, Val Accuracy: 0.8392, Val Loss: 2.7535, Val F1: 0.8545, Precision: 0.8467, Recall: 0.8684\n",
      "Adjusting learning rate of group 0 to 1.0000e-06.\n",
      "Epoch 10, Train Accuracy: 0.7529, Train Loss: 3.4209\n",
      "Epoch 10, Val Accuracy: 0.8317, Val Loss: 2.7472, Val F1: 0.8465, Precision: 0.8385, Recall: 0.8660\n",
      "Adjusting learning rate of group 0 to 2.5075e-04.\n",
      "Epoch 11, Train Accuracy: 0.7560, Train Loss: 3.3620\n",
      "Epoch 11, Val Accuracy: 0.8554, Val Loss: 2.6876, Val F1: 0.8709, Precision: 0.8671, Recall: 0.8763\n",
      "Adjusting learning rate of group 0 to 7.5025e-04.\n",
      "Epoch 12, Train Accuracy: 0.7348, Train Loss: 3.4997\n",
      "Epoch 12, Val Accuracy: 0.7708, Val Loss: 2.9886, Val F1: 0.7869, Precision: 0.7979, Recall: 0.8295\n",
      "Adjusting learning rate of group 0 to 1.0000e-03.\n",
      "Epoch 13, Train Accuracy: 0.7362, Train Loss: 3.4840\n",
      "Epoch 13, Val Accuracy: 0.7917, Val Loss: 2.9787, Val F1: 0.8097, Precision: 0.7970, Recall: 0.8401\n",
      "Adjusting learning rate of group 0 to 7.5025e-04.\n",
      "Epoch 14, Train Accuracy: 0.7526, Train Loss: 3.3778\n",
      "Epoch 14, Val Accuracy: 0.8121, Val Loss: 2.8812, Val F1: 0.8269, Precision: 0.8251, Recall: 0.8535\n",
      "Adjusting learning rate of group 0 to 2.5075e-04.\n",
      "Epoch 15, Train Accuracy: 0.7708, Train Loss: 3.3000\n",
      "Epoch 15, Val Accuracy: 0.8187, Val Loss: 2.8468, Val F1: 0.8399, Precision: 0.8656, Recall: 0.8338\n",
      "Adjusting learning rate of group 0 to 1.0000e-06.\n",
      "Epoch 16, Train Accuracy: 0.7755, Train Loss: 3.2881\n",
      "Epoch 16, Val Accuracy: 0.8575, Val Loss: 2.6037, Val F1: 0.8726, Precision: 0.8643, Recall: 0.8827\n",
      "Adjusting learning rate of group 0 to 2.5075e-04.\n",
      "Epoch 17, Train Accuracy: 0.7772, Train Loss: 3.2695\n",
      "Epoch 17, Val Accuracy: 0.8046, Val Loss: 2.8029, Val F1: 0.8129, Precision: 0.8121, Recall: 0.8552\n",
      "Adjusting learning rate of group 0 to 7.5025e-04.\n",
      "Epoch 18, Train Accuracy: 0.7605, Train Loss: 3.3686\n",
      "Epoch 18, Val Accuracy: 0.7479, Val Loss: 3.2665, Val F1: 0.7619, Precision: 0.8234, Recall: 0.7714\n",
      "Adjusting learning rate of group 0 to 1.0000e-03.\n",
      "Epoch 19, Train Accuracy: 0.7555, Train Loss: 3.4109\n",
      "Epoch 19, Val Accuracy: 0.8008, Val Loss: 3.0939, Val F1: 0.8226, Precision: 0.8570, Recall: 0.8171\n",
      "Adjusting learning rate of group 0 to 7.5025e-04.\n",
      "Epoch 20, Train Accuracy: 0.7653, Train Loss: 3.3355\n",
      "Epoch 20, Val Accuracy: 0.8446, Val Loss: 2.7376, Val F1: 0.8616, Precision: 0.8602, Recall: 0.8719\n",
      "Adjusting learning rate of group 0 to 2.5075e-04.\n",
      "Epoch 21, Train Accuracy: 0.7983, Train Loss: 3.1673\n",
      "Epoch 21, Val Accuracy: 0.8483, Val Loss: 2.6459, Val F1: 0.8655, Precision: 0.8643, Recall: 0.8835\n",
      "Adjusting learning rate of group 0 to 1.0000e-06.\n",
      "Epoch 22, Train Accuracy: 0.7898, Train Loss: 3.1719\n",
      "Epoch 22, Val Accuracy: 0.8733, Val Loss: 2.5247, Val F1: 0.8876, Precision: 0.8801, Recall: 0.8981\n",
      "Adjusting learning rate of group 0 to 2.5075e-04.\n",
      "Epoch 23, Train Accuracy: 0.8010, Train Loss: 3.1551\n",
      "Epoch 23, Val Accuracy: 0.8688, Val Loss: 2.5552, Val F1: 0.8820, Precision: 0.8773, Recall: 0.8933\n",
      "Adjusting learning rate of group 0 to 7.5025e-04.\n",
      "Epoch 24, Train Accuracy: 0.7835, Train Loss: 3.2362\n",
      "Epoch 24, Val Accuracy: 0.7629, Val Loss: 3.2792, Val F1: 0.7887, Precision: 0.8681, Recall: 0.7798\n",
      "Adjusting learning rate of group 0 to 1.0000e-03.\n",
      "Epoch 25, Train Accuracy: 0.7852, Train Loss: 3.2342\n",
      "Epoch 25, Val Accuracy: 0.8025, Val Loss: 2.9234, Val F1: 0.8101, Precision: 0.8216, Recall: 0.8261\n",
      "Adjusting learning rate of group 0 to 7.5025e-04.\n",
      "Epoch 26, Train Accuracy: 0.7890, Train Loss: 3.1883\n",
      "Epoch 26, Val Accuracy: 0.8712, Val Loss: 2.5714, Val F1: 0.8804, Precision: 0.8700, Recall: 0.8934\n",
      "Adjusting learning rate of group 0 to 2.5075e-04.\n",
      "Epoch 27, Train Accuracy: 0.8177, Train Loss: 3.0137\n",
      "Epoch 27, Val Accuracy: 0.8617, Val Loss: 2.5875, Val F1: 0.8749, Precision: 0.8725, Recall: 0.8905\n",
      "Adjusting learning rate of group 0 to 1.0000e-06.\n",
      "Epoch 28, Train Accuracy: 0.8164, Train Loss: 3.0355\n",
      "Epoch 28, Val Accuracy: 0.8783, Val Loss: 2.5172, Val F1: 0.8899, Precision: 0.8851, Recall: 0.9003\n",
      "Adjusting learning rate of group 0 to 2.5075e-04.\n",
      "Epoch 29, Train Accuracy: 0.8213, Train Loss: 3.0280\n",
      "Epoch 29, Val Accuracy: 0.8804, Val Loss: 2.5164, Val F1: 0.8927, Precision: 0.8886, Recall: 0.9005\n",
      "Adjusting learning rate of group 0 to 7.5025e-04.\n",
      "Epoch 30, Train Accuracy: 0.8002, Train Loss: 3.1357\n",
      "Epoch 30, Val Accuracy: 0.8404, Val Loss: 3.0252, Val F1: 0.8561, Precision: 0.8854, Recall: 0.8395\n",
      "Adjusting learning rate of group 0 to 1.0000e-03.\n"
     ]
    }
   ],
   "source": [
    "#Mixup version\n",
    "import warnings\n",
    "warnings.filterwarnings('ignore')\n",
    "\n",
    "from sklearn.metrics import f1_score, precision_score, recall_score\n",
    "\n",
    "def evaluate_model(loader, model, criterion, device):\n",
    "    model.eval()\n",
    "    correct, total, loss_sum = 0, 0, 0\n",
    "    \n",
    "    all_labels = []\n",
    "    all_preds = []\n",
    "    \n",
    "    with torch.no_grad():\n",
    "        for inputs, label in loader:\n",
    "            inputs, label = inputs.to(device), label.to(device)\n",
    "            outputs = model(inputs)\n",
    "            _, predicted = torch.max(outputs, 1)\n",
    "            \n",
    "            all_labels.extend(label.cpu().numpy())\n",
    "            all_preds.extend(predicted.cpu().numpy())\n",
    "            loss = criterion(outputs, label)\n",
    "            loss_sum += loss.item()\n",
    "            \n",
    "    accuracy = np.mean(np.array(all_labels) == np.array(all_preds))\n",
    "    average_loss = loss_sum / len(loader)\n",
    "    f1 = f1_score(all_labels, all_preds, average='macro')\n",
    "    precision = precision_score(all_labels, all_preds, average='macro')\n",
    "    recall = recall_score(all_labels, all_preds, average='macro')\n",
    "    \n",
    "    return accuracy, average_loss, f1, precision, recall    \n",
    "\n",
    "# Training and evaluation loop\n",
    "train_accuracies = []\n",
    "val_accuracies = []\n",
    "train_loss_t, val_loss_t = [],[]\n",
    "best_accuracy = 0\n",
    "best_loss = 100\n",
    "n_epoch = 30\n",
    "alpha = 0.4  # MixUp hyperparameter\n",
    "\n",
    "for epoch in range(n_epoch):\n",
    "    model.train()\n",
    "    train_correct = 0\n",
    "    train_total = 0\n",
    "    train_loss = 0\n",
    "    \n",
    "    for i, data in enumerate(train_loader):\n",
    "        inputs, labels = data\n",
    "        inputs, labels = inputs.to(device), labels.to(device)\n",
    "    \n",
    "        # Apply MixUp\n",
    "        inputs, targets_a, targets_b, lam = mixup_data(inputs, labels, alpha=alpha, device=device)\n",
    "        \n",
    "        optimizer.zero_grad()\n",
    "        outputs = model(inputs)\n",
    "        \n",
    "        # Calculate MixUp loss\n",
    "        loss = lam * criterion(outputs, targets_a) + (1 - lam) * criterion(outputs, targets_b)\n",
    "        \n",
    "        loss.backward()\n",
    "        optimizer.step()\n",
    "        \n",
    "        _, predicted = torch.max(outputs, 1)\n",
    "        correct = lam * (predicted == targets_a).sum().float() + (1 - lam) * (predicted == targets_b).sum().float()\n",
    "        train_correct += correct.item()\n",
    "        train_total += labels.size(0)\n",
    "        train_loss += loss.item()\n",
    "    \n",
    "    train_accuracy = train_correct / train_total\n",
    "    train_loss_avg = train_loss / len(train_loader)\n",
    "    train_accuracies.append(train_accuracy)\n",
    "    train_loss_t.append(train_loss_avg)\n",
    "\n",
    "    print(f'Epoch {epoch + 1}, Train Accuracy: {train_accuracy:.4f}, Train Loss: {train_loss_avg:.4f}')\n",
    "\n",
    "    # Evaluate on the validation set\n",
    "    val_accuracy, val_loss, val_f1, val_precision, val_recall = evaluate_model(val_loader, model, criterion, device)\n",
    "    val_accuracies.append(val_accuracy)\n",
    "    val_loss_t.append(val_loss)\n",
    "    \n",
    "    print(f'Epoch {epoch + 1}, Val Accuracy: {val_accuracy:.4f}, Val Loss: {val_loss:.4f}, Val F1: {val_f1:.4f}, Precision: {val_precision:.4f}, Recall: {val_recall:.4f}')\n",
    "\n",
    "    scheduler.step() #exponential, cosine\n",
    "    #scheduler.step(val_loss)  # Reduce learning rate based on the validation loss\n",
    "    \n",
    "    # Implement logic for saving the best model\n",
    "    if val_loss < best_loss:\n",
    "        best_loss = val_loss\n",
    "        torch.save(model.state_dict(), 'best_model_loss.pth')\n",
    "    \n",
    "    if val_accuracy > best_accuracy:\n",
    "        best_accuracy = val_accuracy\n",
    "        torch.save(model.state_dict(), 'best_model_acc.pth')"
   ]
  },
  {
   "cell_type": "code",
   "execution_count": 19,
   "metadata": {
    "execution": {
     "iopub.execute_input": "2024-05-11T13:44:30.232663Z",
     "iopub.status.busy": "2024-05-11T13:44:30.231333Z",
     "iopub.status.idle": "2024-05-11T13:44:30.810692Z",
     "shell.execute_reply": "2024-05-11T13:44:30.809640Z",
     "shell.execute_reply.started": "2024-05-11T13:44:30.232626Z"
    },
    "trusted": true
   },
   "outputs": [
    {
     "data": {
      "image/png": "[encoded data removed]",
      "text/plain": [
       "<Figure size 1000x500 with 1 Axes>"
      ]
     },
     "metadata": {},
     "output_type": "display_data"
    }
   ],
   "source": [
    "import matplotlib.pyplot as plt\n",
    "\n",
    "plt.figure(figsize=(10, 5))\n",
    "plt.plot(range(1, n_epoch+1), train_accuracies, label='Train Accuracy')\n",
    "plt.plot(range(1, n_epoch+1), val_accuracies, label='Validation Accuracy')\n",
    "plt.title('Training and Validation Accuracy')\n",
    "plt.xlabel('Epochs')\n",
    "plt.ylabel('Accuracy')\n",
    "plt.legend()\n",
    "plt.grid(True)\n",
    "plt.show()"
   ]
  },
  {
   "cell_type": "code",
   "execution_count": 20,
   "metadata": {
    "execution": {
     "iopub.execute_input": "2024-05-11T13:44:30.812410Z",
     "iopub.status.busy": "2024-05-11T13:44:30.812038Z",
     "iopub.status.idle": "2024-05-11T13:44:31.134389Z",
     "shell.execute_reply": "2024-05-11T13:44:31.133477Z",
     "shell.execute_reply.started": "2024-05-11T13:44:30.812376Z"
    },
    "trusted": true
   },
   "outputs": [
    {
     "data": {
      "image/png": "[encoded data removed]",
      "text/plain": [
       "<Figure size 1000x600 with 1 Axes>"
      ]
     },
     "metadata": {},
     "output_type": "display_data"
    }
   ],
   "source": [
    "import matplotlib.pyplot as plt\n",
    "\n",
    "epochs = range(1,n_epoch+1)\n",
    "\n",
    "plt.figure(figsize=(10, 6))\n",
    "plt.plot(epochs, train_loss_t, 'b', label='Training Loss')\n",
    "plt.plot(epochs, val_loss_t, 'r', label='Validation Loss')\n",
    "\n",
    "# Adding title and labels\n",
    "plt.title('Training vs. Validation Loss Over Epochs')\n",
    "plt.xlabel('Epochs')\n",
    "plt.ylabel('Loss')\n",
    "\n",
    "# Adding legend\n",
    "plt.legend()\n",
    "\n",
    "# Display the plot\n",
    "plt.show()\n"
   ]
  },
  {
   "cell_type": "code",
   "execution_count": 21,
   "metadata": {
    "execution": {
     "iopub.execute_input": "2024-05-11T13:44:31.136014Z",
     "iopub.status.busy": "2024-05-11T13:44:31.135651Z",
     "iopub.status.idle": "2024-05-11T13:44:35.581488Z",
     "shell.execute_reply": "2024-05-11T13:44:35.580652Z",
     "shell.execute_reply.started": "2024-05-11T13:44:31.135980Z"
    },
    "id": "X5Ojcy5kPtu1",
    "trusted": true
   },
   "outputs": [],
   "source": [
    "test_spectrograms = torch.tensor(test_spectrograms, dtype=torch.float32)\n",
    "test_dataset = TensorDataset(test_spectrograms)  # No labels available\n",
    "test_loader = DataLoader(test_dataset, batch_size=32, shuffle=False)\n",
    "\n",
    "test_samples = len(test_dataset)\n",
    "\n",
    "predictions = []\n",
    "\n",
    "best_model = SpectrogramCNN()\n",
    "best_model.load_state_dict(torch.load('best_model_acc.pth'))# Load the best model parameters\n",
    "best_model.to(device)\n",
    "\n",
    "best_model.eval()\n",
    "best_model.to(device)\n",
    "with torch.no_grad():\n",
    "    for inputs in test_loader:\n",
    "        inputs = inputs[0].to(device)\n",
    "        inputs = inputs.unsqueeze(0)\n",
    "        outputs = best_model(inputs[0])\n",
    "        _, predicted = torch.max(outputs.data, 1)\n",
    "        predictions.extend(predicted.tolist())\n",
    "\n",
    "import pandas as pd\n",
    "test_ids = np.arange(0, test_samples)\n",
    "\n",
    "# Convert predictions and ids into a DataFrame\n",
    "submission_df = pd.DataFrame({'id': test_ids, 'category': predictions})\n",
    "\n",
    "# Save the DataFrame to a CSV file\n",
    "submission_df.to_csv('/kaggle/working/submission.csv', index=False)"
   ]
  },
  {
   "cell_type": "code",
   "execution_count": 22,
   "metadata": {
    "execution": {
     "iopub.execute_input": "2024-05-11T13:44:35.582981Z",
     "iopub.status.busy": "2024-05-11T13:44:35.582676Z",
     "iopub.status.idle": "2024-05-11T13:44:35.589916Z",
     "shell.execute_reply": "2024-05-11T13:44:35.588994Z",
     "shell.execute_reply.started": "2024-05-11T13:44:35.582955Z"
    },
    "id": "0SVeIlUfmv0a",
    "trusted": true
   },
   "outputs": [
    {
     "name": "stdout",
     "output_type": "stream",
     "text": [
      "(tensor([[[-2.5959, -2.5959, -2.4793,  ..., -1.6535, -1.1609, -0.6217],\n",
      "         [-2.5959, -2.5959, -2.5959,  ..., -1.9111, -1.4894, -0.6144],\n",
      "         [-2.5959, -2.5959, -2.5735,  ..., -1.6940, -1.2415, -0.5205],\n",
      "         ...,\n",
      "         [-1.7959, -0.3205,  0.3677,  ..., -0.1565, -0.0231, -0.0469],\n",
      "         [-2.1949, -0.4098,  0.2829,  ..., -0.0525,  0.0901, -0.0074],\n",
      "         [-1.9951, -0.4368,  0.2379,  ...,  0.2026,  0.1768,  0.0064]]]),)\n"
     ]
    }
   ],
   "source": [
    "print(test_dataset[0])"
   ]
  }
 ],
 "metadata": {
  "colab": {
   "provenance": []
  },
  "kaggle": {
   "accelerator": "gpu",
   "dataSources": [
    {
     "databundleVersionId": 8329469,
     "sourceId": 75463,
     "sourceType": "competition"
    },
    {
     "datasetId": 4891924,
     "sourceId": 8245604,
     "sourceType": "datasetVersion"
    },
    {
     "datasetId": 4892009,
     "sourceId": 8245717,
     "sourceType": "datasetVersion"
    },
    {
     "datasetId": 4901441,
     "sourceId": 8258728,
     "sourceType": "datasetVersion"
    },
    {
     "datasetId": 4901468,
     "sourceId": 8258773,
     "sourceType": "datasetVersion"
    },
    {
     "datasetId": 4901482,
     "sourceId": 8258792,
     "sourceType": "datasetVersion"
    },
    {
     "datasetId": 4922609,
     "sourceId": 8287633,
     "sourceType": "datasetVersion"
    },
    {
     "datasetId": 4924339,
     "sourceId": 8289853,
     "sourceType": "datasetVersion"
    },
    {
     "datasetId": 4933575,
     "sourceId": 8305024,
     "sourceType": "datasetVersion"
    },
    {
     "datasetId": 4933990,
     "sourceId": 8305789,
     "sourceType": "datasetVersion"
    },
    {
     "datasetId": 4935355,
     "sourceId": 8308676,
     "sourceType": "datasetVersion"
    },
    {
     "datasetId": 4949193,
     "sourceId": 8334079,
     "sourceType": "datasetVersion"
    },
    {
     "datasetId": 4971815,
     "sourceId": 8364597,
     "sourceType": "datasetVersion"
    },
    {
     "datasetId": 4976701,
     "sourceId": 8371264,
     "sourceType": "datasetVersion"
    }
   ],
   "dockerImageVersionId": 30699,
   "isGpuEnabled": true,
   "isInternetEnabled": true,
   "language": "python",
   "sourceType": "notebook"
  },
  "kernelspec": {
   "display_name": "Python 3",
   "language": "python",
   "name": "python3"
  },
  "language_info": {
   "codemirror_mode": {
    "name": "ipython",
    "version": 3
   },
   "file_extension": ".py",
   "mimetype": "text/x-python",
   "name": "python",
   "nbconvert_exporter": "python",
   "pygments_lexer": "ipython3",
   "version": "3.10.13"
  }
 },
 "nbformat": 4,
 "nbformat_minor": 4
}
